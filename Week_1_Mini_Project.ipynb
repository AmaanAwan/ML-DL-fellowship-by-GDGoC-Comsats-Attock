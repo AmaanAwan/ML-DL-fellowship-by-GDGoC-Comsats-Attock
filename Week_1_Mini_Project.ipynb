{
  "nbformat": 4,
  "nbformat_minor": 0,
  "metadata": {
    "colab": {
      "provenance": []
    },
    "kernelspec": {
      "name": "python3",
      "display_name": "Python 3"
    },
    "language_info": {
      "name": "python"
    }
  },
  "cells": [
    {
      "cell_type": "markdown",
      "source": [
        "# Week 1 Mini Project"
      ],
      "metadata": {
        "id": "F0xzgCNT2ngO"
      }
    },
    {
      "cell_type": "markdown",
      "source": [
        "## Question 1: User Data Collector\n",
        "\n",
        "Concepts Used: Input handling, dictionaries, validation, formatted strings\n",
        "\n",
        "Task:\n",
        "\n",
        "Prompt the user to enter their name, age, email, and favorite number.\n",
        "Store them in a dictionary.\n",
        "Validate the email format (must contain @ and .).\n",
        "Display a formatted output.\n",
        "\n",
        "\n",
        "*🔹 Hint: Use Python's in keyword to check if @ and . exist in the email.*\n"
      ],
      "metadata": {
        "id": "bM4cmQ5y2nAt"
      }
    },
    {
      "cell_type": "code",
      "source": [
        "def user_data_collector():\n",
        "    print(\"Welcome to the User Data Collector!\")\n",
        "    user_data = {} #instantiating dictionary\n",
        "\n",
        "    user_data[\"name\"] = input(\"Enter your name: \")\n",
        "    user_data[\"age\"] = input(\"Enter your age: \")  # No need to cast to int immediately, avoid crash if not a number\n",
        "\n",
        "    while True:\n",
        "        email = input(\"Enter your email: \")\n",
        "        if \"@\" in email and \".\" in email:     # Validate email format\n",
        "            user_data['email'] = email\n",
        "            break\n",
        "        else:\n",
        "            print(\"Invalid email format. Please include '@' and '.'\") # Get again if email is invalid\n",
        "\n",
        "\n",
        "    user_data[\"favorite_number\"] = input(\"Enter your favorite number: \")\n",
        "\n",
        "    print(\"\\nUser Data:\")\n",
        "    print(f\"Name: {user_data['name']}\")\n",
        "    print(f\"Age: {user_data['age']}\")\n",
        "    print(f\"Email: {user_data['email']}\")\n",
        "    print(f\"Favorite Number: {user_data['favorite_number']}\")\n"
      ],
      "metadata": {
        "id": "deLNQ1va3Dmz"
      },
      "execution_count": 5,
      "outputs": []
    },
    {
      "cell_type": "code",
      "source": [
        "    print(\"Question 1: User Data Collector\")\n",
        "    user_data_collector()\n",
        "    print(\"\\n\" + \"-\" * 30 + \"\\n\")"
      ],
      "metadata": {
        "colab": {
          "base_uri": "https://localhost:8080/"
        },
        "id": "5YADv6HMJwXe",
        "outputId": "6922ab98-fbb3-48fe-89f9-c99483175bc8"
      },
      "execution_count": 6,
      "outputs": [
        {
          "output_type": "stream",
          "name": "stdout",
          "text": [
            "Question 1: User Data Collector\n",
            "Welcome to the User Data Collector!\n",
            "Enter your name: Amaan\n",
            "Enter your age: 22\n",
            "Enter your email: hdjnla\n",
            "Invalid email format. Please include '@' and '.'\n",
            "Enter your email: amaan@dj.com\n",
            "Enter your favorite number: 3333\n",
            "\n",
            "User Data:\n",
            "Name: Amaan\n",
            "Age: 22\n",
            "Email: amaan@dj.com\n",
            "Favorite Number: 3333\n",
            "\n",
            "------------------------------\n",
            "\n"
          ]
        }
      ]
    },
    {
      "cell_type": "markdown",
      "source": [
        "## Question 2: Even or Odd?\n",
        "\n",
        "Concepts Used: Functions, conditionals\n",
        "\n",
        "Task:\n",
        "\n",
        "Create a function Is_even(number) that checks if a number is even.\n",
        "Print whether the number is even or odd.\n",
        "\n",
        "*🔹 Hint: Use the modulo operator % (i.e., number % 2 == 0).*"
      ],
      "metadata": {
        "id": "ay2O56td5S2x"
      }
    },
    {
      "cell_type": "code",
      "source": [
        "\n",
        "def is_even(number):\n",
        "    try:\n",
        "        number = int(number) #attempt to cast to integer.  Handles potential crashes with invalid input\n",
        "    except ValueError:\n",
        "        print(\"Invalid input.  Please enter an integer\")\n",
        "        return None  # Or return an appropriate error value\n",
        "\n",
        "    if number % 2 == 0:\n",
        "        return True\n",
        "    else:\n",
        "        return False\n",
        "\n",
        "\n",
        "num = input(\"Enter a number(integer): \")\n",
        "result = is_even(num) # Get the return value of the function\n",
        "\n",
        "if result:  # Use the return value of is_even directly\n",
        "  print(f\"{num} is even.\")\n",
        "else:\n",
        "  print(f\"{num } is odd.\")"
      ],
      "metadata": {
        "colab": {
          "base_uri": "https://localhost:8080/"
        },
        "id": "KX5ykCHZ5h2N",
        "outputId": "bf9b5437-b8bc-4bb5-ad81-2643f44ec289"
      },
      "execution_count": 7,
      "outputs": [
        {
          "output_type": "stream",
          "name": "stdout",
          "text": [
            "Enter a number(integer): 5\n",
            "5 is odd.\n"
          ]
        }
      ]
    },
    {
      "cell_type": "markdown",
      "source": [
        "## Question 3: Temperature Converter\n",
        "Concepts Used: Functions, conditionals, arithmetic operations\n",
        "\n",
        "Task:\n",
        "● Create a function convert_temperature(temp, scale) that takes:\n",
        "\n",
        "    ● A temperature value\n",
        "    ● A scale (\"C\" for Celsius, \"F\" for Fahrenheit)\n",
        "\n",
        "Convert:\n",
        "\n",
        "● Celsius → Fahrenheit: (temp * 9/5) + 32\n",
        "● Fahrenheit → Celsius: (temp - 32) * 5/9\n",
        "● Display the converted temperature.  \n",
        "\n",
        "*Hint: Use if conditions to check which scale to convert.*"
      ],
      "metadata": {
        "id": "0IS3bpF7E68l"
      }
    },
    {
      "cell_type": "code",
      "source": [
        "\n",
        "def convert_temperature(temp, scale):\n",
        "    try:\n",
        "        temp = float(temp)\n",
        "    except ValueError:\n",
        "        print(\"Invalid temperature.  Please enter a number.\")\n",
        "        return None                            # Handle non-numeric input\n",
        "\n",
        "    if scale.upper() == \"C\":\n",
        "        fahrenheit = (temp * 9/5) + 32\n",
        "        return fahrenheit\n",
        "    elif scale.upper() == \"F\":\n",
        "        celsius = (temp - 32) * 5/9\n",
        "        return celsius\n",
        "    else:\n",
        "        print(\"Invalid scale.  Please enter 'C' or 'F'.\")\n",
        "        return None\n",
        "\n",
        "\n",
        "#Prompts the user for a temperature and scale and converts it.\n",
        "temp = input(\"Enter the temperature: \")\n",
        "scale = input(\"Enter the scale Celsius or Fahrenheit (C or F): \")\n",
        "\n",
        "converted_temp = convert_temperature(temp, scale)\n",
        "\n",
        "if converted_temp is not None:\n",
        "  print(f\"The converted temperature is: {converted_temp}\")\n",
        "\n"
      ],
      "metadata": {
        "id": "tNG-9N0j6dQK",
        "colab": {
          "base_uri": "https://localhost:8080/"
        },
        "outputId": "6750ca5e-42b7-41ad-cc1e-6f39e850068e"
      },
      "execution_count": 8,
      "outputs": [
        {
          "output_type": "stream",
          "name": "stdout",
          "text": [
            "Enter the temperature: 31\n",
            "Enter the scale Celsius or Fahrenheit (C or F): C\n",
            "The converted temperature is: 87.8\n"
          ]
        }
      ]
    },
    {
      "cell_type": "markdown",
      "source": [
        "## Question 4: Finding Min & Max\n",
        "Concepts Used: Lists, functions, input handling\n",
        "\n",
        "\n",
        "Task:\n",
        "Create a function find_max_min(numbers_list) that returns the max and min values from a list.\n",
        "\n",
        "Prompt the user to enter 5 numbers, store them in a list, and find the min/max.\n",
        "\n",
        "*Hint: Use Python's built-in max() and min() functions.*"
      ],
      "metadata": {
        "id": "uajLDIVWFNqX"
      }
    },
    {
      "cell_type": "code",
      "source": [
        "def find_max_min(numbers_list):\n",
        "    if not numbers_list:\n",
        "        return None, None  # Handle empty list case\n",
        "    return max(numbers_list), min(numbers_list)\n",
        "\n",
        "numbers = []\n",
        "for _ in range(5):\n",
        "    while True:\n",
        "        try:\n",
        "            num = float(input(\"Enter a number: \"))\n",
        "            numbers.append(num)\n",
        "            break\n",
        "        except ValueError:\n",
        "            print(\"Invalid input. Please enter a valid number.\")"
      ],
      "metadata": {
        "id": "ukBWkwGLuurM",
        "colab": {
          "base_uri": "https://localhost:8080/"
        },
        "outputId": "146c110f-a629-4c71-8ad3-535122eb31ec"
      },
      "execution_count": 10,
      "outputs": [
        {
          "name": "stdout",
          "output_type": "stream",
          "text": [
            "Enter a number: 53\n",
            "Enter a number: 21\n",
            "Enter a number: 0\n",
            "Enter a number: 211\n",
            "Enter a number: -1\n"
          ]
        }
      ]
    },
    {
      "cell_type": "code",
      "source": [
        "print(\"Question 4: Finding Min & Max\")\n",
        "max_val, min_val = find_max_min(numbers)\n",
        "\n",
        "print(\"Maximum:\", max_val)\n",
        "print(\"Minimum:\", min_val)"
      ],
      "metadata": {
        "colab": {
          "base_uri": "https://localhost:8080/"
        },
        "id": "Ewk1BnbsLGiI",
        "outputId": "0a39436a-f2f8-4280-956c-f055873bc22e"
      },
      "execution_count": 11,
      "outputs": [
        {
          "output_type": "stream",
          "name": "stdout",
          "text": [
            "Question 4: Finding Min & Max\n",
            "Maximum: 211.0\n",
            "Minimum: -1.0\n"
          ]
        }
      ]
    },
    {
      "cell_type": "markdown",
      "source": [
        "## Question 5: Student Data Manager\n",
        "Concepts Used: Lists, tuples, dictionaries, loops\n",
        "\n",
        "Task:\n",
        "● Prompt the user to enter details of 3 students (name, age, grade).\n",
        "\n",
        "● Store them as tuples in a list.\n",
        "\n",
        "● Convert this list into a dictionary, where:\n",
        "\n",
        "    ● Key → Student name\n",
        "    ● Value → Tuple (age, grade)\n",
        "    ● Display the dictionary.\n",
        "\n",
        "*Hint: Use a for loop and dict() to create the dictionary.*"
      ],
      "metadata": {
        "id": "Nz_SDKHyFbW0"
      }
    },
    {
      "cell_type": "code",
      "source": [
        "\n",
        "def student_data_manager():\n",
        "    students_list = []\n",
        "    for i in range(3):\n",
        "        print(f\"\\nEnter details for student {i+1}:\")\n",
        "        name = input(\"Enter name: \")\n",
        "        age = input(\"Enter age: \")\n",
        "        grade = input(\"Enter grade: \")  #Could convert age and grade to int or float, but keeping it as string makes input easier.\n",
        "        students_list.append((name, age, grade))\n",
        "\n",
        "    students_dict = {}\n",
        "    for name, age, grade in students_list:\n",
        "        students_dict[name] = (age, grade) #key:name, value = tuple(age,grade)\n",
        "\n",
        "    print(\"\\nStudent Data Dictionary:\")\n",
        "    print(students_dict)"
      ],
      "metadata": {
        "id": "gjrdpzHoGMQS"
      },
      "execution_count": 12,
      "outputs": []
    },
    {
      "cell_type": "code",
      "source": [
        "print(\"Question 5: Student Data Manager\")\n",
        "student_data_manager()"
      ],
      "metadata": {
        "colab": {
          "base_uri": "https://localhost:8080/"
        },
        "id": "OBvrMlOOK8El",
        "outputId": "f58c3cbf-2c81-43cd-af3b-8a4d0e74b9f4"
      },
      "execution_count": 13,
      "outputs": [
        {
          "output_type": "stream",
          "name": "stdout",
          "text": [
            "Question 5: Student Data Manager\n",
            "\n",
            "Enter details for student 1:\n",
            "Enter name: Amaan\n",
            "Enter age: 23\n",
            "Enter grade: 16\n",
            "\n",
            "Enter details for student 2:\n",
            "Enter name: abjkcsk\n",
            "Enter age: 22\n",
            "Enter grade: 3\n",
            "\n",
            "Enter details for student 3:\n",
            "Enter name: Abdul wali baloch\n",
            "Enter age: 11\n",
            "Enter grade: 7\n",
            "\n",
            "Student Data Dictionary:\n",
            "{'Amaan': ('23', '16'), 'abjkcsk': ('22', '3'), 'Abdul wali baloch': ('11', '7')}\n"
          ]
        }
      ]
    },
    {
      "cell_type": "markdown",
      "source": [
        "## Question 6: Inventory Management System\n",
        "Concepts Used: Dictionaries, functions, conditionals\n",
        "\n",
        "Task:\n",
        "\n",
        "● Create a function update_inventory(inventory_dict, item, quantity) that:\n",
        "\n",
        "    ● Takes an inventory dictionary {item: quantity}\n",
        "    ● Updates the quantity (+ for adding, - for removing)\n",
        "    ● Ensures quantity doesn’t go below zero\n",
        "    ● Returns the updated inventory\n",
        "    ● Initialize an inventory with 5 items.\n",
        "    ● Prompt the user to update the inventory for 3 items.\n",
        "    ● Display the updated inventory.\n",
        "\n",
        "*Hint: Use max(0, updated_quantity) to prevent negative values.*"
      ],
      "metadata": {
        "id": "LEBnkFeWI9CI"
      }
    },
    {
      "cell_type": "code",
      "source": [
        "def update_inventory(inventory_dict, item, quantity):\n",
        "\n",
        "    if item in inventory_dict:\n",
        "        updated_quantity = inventory_dict[item] + quantity\n",
        "    else:\n",
        "        updated_quantity = quantity\n",
        "\n",
        "    inventory_dict[item] = max(0, updated_quantity) #Ensure quantity doesn't go below zero\n",
        "    return inventory_dict\n",
        "\n",
        "\n",
        "\n",
        "def inventory_management_system():\n",
        "\n",
        "    inventory = {\n",
        "        \"apple\": 10,\n",
        "        \"banana\": 32,\n",
        "        \"orange\": 57,\n",
        "        \"grape\": 5,\n",
        "        \"tamatar\": 9\n",
        "    }\n",
        "\n",
        "    print(\"Initial Inventory:\", inventory)\n",
        "\n",
        "    for i in range(3):\n",
        "        print(f\"\\nUpdate inventory {i+1}:\")\n",
        "        item = input(\"Enter item name: \")\n",
        "        try:\n",
        "          quantity = int(input(\"Enter quantity to add/remove (positive for add, negative for remove): \"))\n",
        "        except ValueError:\n",
        "          print(\"Invalid input.  Quantity must be an integer\")\n",
        "          continue #Skips to the next inventory update\n",
        "\n",
        "        inventory = update_inventory(inventory, item, quantity)\n",
        "\n",
        "    print(\"\\nUpdated Inventory:\", inventory)\n",
        "\n",
        "\n",
        "print(\"Question 6: Inventory Management System\")\n",
        "inventory_management_system()\n",
        "\n"
      ],
      "metadata": {
        "colab": {
          "base_uri": "https://localhost:8080/"
        },
        "id": "reA3cy4XJiSV",
        "outputId": "deabb3f2-f448-4ba1-8a18-8459df12aa0d"
      },
      "execution_count": 16,
      "outputs": [
        {
          "output_type": "stream",
          "name": "stdout",
          "text": [
            "Question 6: Inventory Management System\n",
            "Initial Inventory: {'apple': 10, 'banana': 32, 'orange': 57, 'grape': 5, 'tamatar': 9}\n",
            "\n",
            "Update inventory 1:\n",
            "Enter item name: apple\n",
            "Enter quantity to add/remove (positive for add, negative for remove): 22\n",
            "\n",
            "Update inventory 2:\n",
            "Enter item name: banana\n",
            "Enter quantity to add/remove (positive for add, negative for remove): -24\n",
            "\n",
            "Update inventory 3:\n",
            "Enter item name: grape\n",
            "Enter quantity to add/remove (positive for add, negative for remove): +1\n",
            "\n",
            "Updated Inventory: {'apple': 32, 'banana': 8, 'orange': 57, 'grape': 6, 'tamatar': 9}\n"
          ]
        }
      ]
    }
  ]
}