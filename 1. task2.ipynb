{
  "nbformat": 4,
  "nbformat_minor": 0,
  "metadata": {
    "colab": {
      "provenance": []
    },
    "kernelspec": {
      "name": "python3",
      "display_name": "Python 3"
    },
    "language_info": {
      "name": "python"
    }
  },
  "cells": [
    {
      "cell_type": "markdown",
      "source": [
        "Python Introduction\n",
        "\n",
        "Create a notebook file with the name os task 2 create functions for following in python(no libraries):\n",
        "1. Mean / Meadian / Mode Calculation of a list of numbers.\n",
        "2. A function that can calculate variance for the same list you used in part 1.\n",
        "3. A function that can calculate standard deviation the same list you used in part 1.\n",
        "4. Euclidean distance for 2 values or 2 lists.\n",
        "5. Sigmoid Fuction.\n",
        "\n",
        "Search for the formulas as these will help you understanding mathematics in MLand solve using python basics. Upload the notebook file on github repository you're supposed to maintain and submit the link below.\n",
        "\n",
        "Good Luck!"
      ],
      "metadata": {
        "id": "WsFyYmUM1jVC"
      }
    },
    {
      "cell_type": "code",
      "execution_count": 34,
      "metadata": {
        "id": "KnYCS1Bf1Yi_",
        "colab": {
          "base_uri": "https://localhost:8080/"
        },
        "outputId": "e2b0703e-b966-4f0f-a0c1-0b977a3b0771"
      },
      "outputs": [
        {
          "output_type": "execute_result",
          "data": {
            "text/plain": [
              "[43,\n",
              " 6,\n",
              " 75,\n",
              " 70,\n",
              " 70,\n",
              " 92,\n",
              " 41,\n",
              " 84,\n",
              " 16,\n",
              " 25,\n",
              " 62,\n",
              " 91,\n",
              " 92,\n",
              " 28,\n",
              " 42,\n",
              " 74,\n",
              " 55,\n",
              " 47,\n",
              " 79,\n",
              " 100,\n",
              " 100,\n",
              " 79,\n",
              " 37,\n",
              " 95,\n",
              " 60,\n",
              " 23,\n",
              " 46,\n",
              " 7,\n",
              " 74,\n",
              " 4,\n",
              " 19,\n",
              " 54,\n",
              " 20,\n",
              " 26,\n",
              " 14,\n",
              " 2,\n",
              " 13,\n",
              " 66,\n",
              " 77,\n",
              " 56,\n",
              " 99,\n",
              " 91,\n",
              " 58,\n",
              " 62,\n",
              " 17,\n",
              " 98,\n",
              " 11,\n",
              " 54,\n",
              " 12,\n",
              " 96,\n",
              " 31,\n",
              " 20,\n",
              " 52,\n",
              " 34,\n",
              " 56]"
            ]
          },
          "metadata": {},
          "execution_count": 34
        }
      ],
      "source": [
        "#creating list of random numbers\n",
        "import random\n",
        "\n",
        "random_numbers = [random.randint(1, 100) for _ in range(55)]\n",
        "random_numbers\n"
      ]
    },
    {
      "cell_type": "markdown",
      "source": [
        "**Mean** is the average of the given set of numbers.\n",
        "The mean (average) of a data set is found by adding all numbers in the data set and then dividing by the number of values in the set.\n",
        "\n",
        "The **median** is the middle value when a data set is ordered from least to greatest."
      ],
      "metadata": {
        "id": "AFlUaP04jexC"
      }
    },
    {
      "cell_type": "code",
      "source": [
        "def mean_func(list_of_num):\n",
        "  #mean= sum of all numbers in an array/ length of array\n",
        "  mean = sum(list_of_num) / len(list_of_num)\n",
        "  return mean\n",
        "\n",
        "print(\"Mean:\", mean_func(random_numbers))\n",
        "\n",
        "\n",
        "def median_func(list_of_num):\n",
        "  sorted_numbers = sorted(list_of_num)\n",
        "  n = len(sorted_numbers)\n",
        "  if n % 2 == 0:                      #if length of array is even\n",
        "    mid1 = sorted_numbers[n // 2 - 1]\n",
        "    mid2 = sorted_numbers[n // 2]\n",
        "    median = (mid1 + mid2) / 2\n",
        "  else:                               #if length of array is odd\n",
        "    median = sorted_numbers[n // 2]\n",
        "  return median\n",
        "\n",
        "print(\"Median:\", median_func(random_numbers))\n"
      ],
      "metadata": {
        "colab": {
          "base_uri": "https://localhost:8080/"
        },
        "id": "Vy-Mb4zrtmBp",
        "outputId": "42216e09-22b4-4ad3-b885-9f808a941a79"
      },
      "execution_count": 35,
      "outputs": [
        {
          "output_type": "stream",
          "name": "stdout",
          "text": [
            "Mean: 51.90909090909091\n",
            "Median: 54\n"
          ]
        }
      ]
    },
    {
      "cell_type": "markdown",
      "source": [
        "A **mode** is defined as the value that has a higher frequency in a given set of values. It is the value that appears the most number of times."
      ],
      "metadata": {
        "id": "P5wIHLlXjLSu"
      }
    },
    {
      "cell_type": "code",
      "source": [
        "def mode_func(list_of_num):\n",
        "  counts = {}\n",
        "  for num in list_of_num:\n",
        "    counts[num] = counts.get(num, 0) + 1\n",
        "  print(counts)           #counts is a dictonary that stores how many times a number occured in a list\n",
        "\n",
        "  max_count = 0\n",
        "  for num, count in counts.items():\n",
        "    if count > max_count:\n",
        "      max_count = count\n",
        "      mode = num\n",
        "  return mode\n",
        "\n",
        "print(\"Mode:\", mode_func(random_numbers))"
      ],
      "metadata": {
        "colab": {
          "base_uri": "https://localhost:8080/"
        },
        "id": "_jOUnR33iFG8",
        "outputId": "0d014614-6d8a-40b4-90db-b487e9b74c15"
      },
      "execution_count": 36,
      "outputs": [
        {
          "output_type": "stream",
          "name": "stdout",
          "text": [
            "{43: 1, 6: 1, 75: 1, 70: 2, 92: 2, 41: 1, 84: 1, 16: 1, 25: 1, 62: 2, 91: 2, 28: 1, 42: 1, 74: 2, 55: 1, 47: 1, 79: 2, 100: 2, 37: 1, 95: 1, 60: 1, 23: 1, 46: 1, 7: 1, 4: 1, 19: 1, 54: 2, 20: 2, 26: 1, 14: 1, 2: 1, 13: 1, 66: 1, 77: 1, 56: 2, 99: 1, 58: 1, 17: 1, 98: 1, 11: 1, 12: 1, 96: 1, 31: 1, 52: 1, 34: 1}\n",
            "Mode: 70\n"
          ]
        }
      ]
    },
    {
      "cell_type": "markdown",
      "source": [
        "**Variance** is a measurement of how far each number in a data set is from the mean (average), and thus from every other number in the set."
      ],
      "metadata": {
        "id": "zc04IvMlobBc"
      }
    },
    {
      "cell_type": "markdown",
      "source": [
        "![image.png](data:image/png;base64,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)"
      ],
      "metadata": {
        "id": "m1ACNKP-mrEY"
      }
    },
    {
      "cell_type": "code",
      "source": [
        "def calculate_variance(list_of_num):\n",
        "  mean= mean_func(random_numbers)\n",
        "  squared_differences = [(x - mean) ** 2 for x in list_of_num]\n",
        "  variance = sum(squared_differences) / len(list_of_num)\n",
        "  return variance\n",
        "\n",
        "variance = calculate_variance(random_numbers)\n",
        "print(\"Variance:\", variance)\n"
      ],
      "metadata": {
        "colab": {
          "base_uri": "https://localhost:8080/"
        },
        "id": "nnzYg2xZiDK-",
        "outputId": "82e8b7cf-d002-4c16-aba0-5ec24be88267"
      },
      "execution_count": 37,
      "outputs": [
        {
          "output_type": "stream",
          "name": "stdout",
          "text": [
            "Variance: 905.1008264462808\n"
          ]
        }
      ]
    },
    {
      "cell_type": "markdown",
      "source": [
        "**Standard Deviation** is the sqareroot of varience"
      ],
      "metadata": {
        "id": "aMv7s7uXpR0x"
      }
    },
    {
      "cell_type": "code",
      "source": [
        "\n",
        "def calculate_std_dev(list_of_num):\n",
        "  variance = calculate_variance(list_of_num)\n",
        "  std_dev = variance ** 0.5\n",
        "  return std_dev\n",
        "\n",
        "std_dev = calculate_std_dev(random_numbers)\n",
        "print(\"Standard Deviation:\", std_dev)\n"
      ],
      "metadata": {
        "colab": {
          "base_uri": "https://localhost:8080/"
        },
        "id": "0wYh53aVonHG",
        "outputId": "dd689a3e-da5f-46d4-97ce-07f6cfb22578"
      },
      "execution_count": 38,
      "outputs": [
        {
          "output_type": "stream",
          "name": "stdout",
          "text": [
            "Standard Deviation: 30.084893658550314\n"
          ]
        }
      ]
    },
    {
      "cell_type": "markdown",
      "source": [
        "**Sigmoid** is a mathematical function that maps any real-valued number into a value between 0 and 1.\n",
        "\n",
        "\n",
        "![image.png](data:image/png;base64,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)"
      ],
      "metadata": {
        "id": "0CPJ5im5q3G3"
      }
    },
    {
      "cell_type": "code",
      "source": [
        "def sigmoid(x):\n",
        "  return 1 / (1 + (2.71828 ** -x)) # Approximation of e\n",
        "\n",
        "print(sigmoid(0))\n",
        "print(sigmoid(-0.08))\n",
        "print(sigmoid(11))"
      ],
      "metadata": {
        "colab": {
          "base_uri": "https://localhost:8080/"
        },
        "id": "QkeM40p1rQiZ",
        "outputId": "efcb0e38-8d19-4032-d1e9-f27c63d390b7"
      },
      "execution_count": 39,
      "outputs": [
        {
          "output_type": "stream",
          "name": "stdout",
          "text": [
            "0.5\n",
            "0.48001067327597063\n",
            "0.9999832984545768\n"
          ]
        }
      ]
    },
    {
      "cell_type": "markdown",
      "source": [
        "![image.png](data:image/png;base64,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)"
      ],
      "metadata": {
        "id": "RgVp7zJXtdEB"
      }
    },
    {
      "cell_type": "code",
      "source": [
        "#Let a and b be two points\n",
        "def euclidean_distance(a, b):\n",
        "\n",
        "    if isinstance(a, list) and isinstance(b, list):     # Checking if both inputs are lists\n",
        "        if len(a) != len(b):\n",
        "           #if both lists doesnt have same length raise error\n",
        "           raise ValueError(\"Lists must have the same length\")\n",
        "\n",
        "        sum_of_squares = 0\n",
        "\n",
        "\n",
        "        for i in range(len(a)):\n",
        "          sum_of_squares += (a[i] - b[i]) ** 2  # Compute squared difference and add to sum\n",
        "\n",
        "        return sum_of_squares ** 0.5  # Return the square root of the sum (Euclidean distance)\n",
        "\n",
        "    # Check if both inputs are numbers (integer or float)\n",
        "    elif isinstance(a, (int, float)) and isinstance(b, (int, float)):\n",
        "        return abs(a - b)  # Euclidean distance for 1D case (absolute difference)\n",
        "\n",
        "    else:\n",
        "      print(type(a), type(b))\n",
        "      print(\"inputs are not same, neither lists nor numbers\") #we can also raise error here\n",
        "\n",
        "\n",
        "\n",
        "print(euclidean_distance(2, 5))  # 1 dimensional example\n",
        "print(euclidean_distance([1, 3, 3], [2, 5, 6]))  # multi-dimensional example\n",
        "print(euclidean_distance(2, [1, 3, 3])) #different data types\n"
      ],
      "metadata": {
        "colab": {
          "base_uri": "https://localhost:8080/"
        },
        "id": "3efCWiLxt_EW",
        "outputId": "b34e3a2b-0a8c-4259-b00d-10007225f567"
      },
      "execution_count": 40,
      "outputs": [
        {
          "output_type": "stream",
          "name": "stdout",
          "text": [
            "3\n",
            "3.7416573867739413\n",
            "<class 'int'> <class 'list'>\n",
            "inputs are not same, neither lists nor numbers\n",
            "None\n"
          ]
        }
      ]
    }
  ]
}
