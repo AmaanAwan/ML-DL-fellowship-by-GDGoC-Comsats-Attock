{
  "nbformat": 4,
  "nbformat_minor": 0,
  "metadata": {
    "colab": {
      "provenance": []
    },
    "kernelspec": {
      "name": "python3",
      "display_name": "Python 3"
    },
    "language_info": {
      "name": "python"
    }
  },
  "cells": [
    {
      "cell_type": "markdown",
      "source": [
        "## Exploring Python iterables with examples"
      ],
      "metadata": {
        "id": "HrFdqMXvx0TE"
      }
    },
    {
      "cell_type": "markdown",
      "source": [
        "**Iterable:**\n",
        "\n",
        "A Python object which can be looped over or iterated over in a loop. Examples of iterables include lists, sets, tuples, dictionaries, strings, etc."
      ],
      "metadata": {
        "id": "ifvSefOczeAV"
      }
    },
    {
      "cell_type": "markdown",
      "source": [
        "**iter()**\n",
        "\n",
        "A built-in function used to convert an iterable to an iterator."
      ],
      "metadata": {
        "id": "6OJEMmAr1On-"
      }
    },
    {
      "cell_type": "code",
      "source": [
        "list_instance = [1, 2, 3, 4]\n",
        "print(iter(list_instance))\n"
      ],
      "metadata": {
        "colab": {
          "base_uri": "https://localhost:8080/"
        },
        "id": "U3zg-Eu_SeVM",
        "outputId": "d90afba2-7b95-434b-a5eb-73a5fb20ce41"
      },
      "execution_count": 19,
      "outputs": [
        {
          "output_type": "stream",
          "name": "stdout",
          "text": [
            "<list_iterator object at 0x7ea066015390>\n"
          ]
        }
      ]
    },
    {
      "cell_type": "markdown",
      "source": [
        "Although the list by itself is not an iterator, calling the iter() function converts it to an iterator and returns the iterator object"
      ],
      "metadata": {
        "id": "HLG_fFQSzoAk"
      }
    },
    {
      "cell_type": "code",
      "source": [
        "list_instance = [1, 2, 3, 4]\n",
        "print(next(list_instance))\n"
      ],
      "metadata": {
        "colab": {
          "base_uri": "https://localhost:8080/",
          "height": 159
        },
        "id": "ra5tXdIdxb8a",
        "outputId": "9cbb2501-ef7a-4408-c053-3beb9d9cbb4e"
      },
      "execution_count": 20,
      "outputs": [
        {
          "output_type": "error",
          "ename": "TypeError",
          "evalue": "'list' object is not an iterator",
          "traceback": [
            "\u001b[0;31m---------------------------------------------------------------------------\u001b[0m",
            "\u001b[0;31mTypeError\u001b[0m                                 Traceback (most recent call last)",
            "\u001b[0;32m<ipython-input-20-9b0819fb0dab>\u001b[0m in \u001b[0;36m<cell line: 0>\u001b[0;34m()\u001b[0m\n\u001b[1;32m      1\u001b[0m \u001b[0mlist_instance\u001b[0m \u001b[0;34m=\u001b[0m \u001b[0;34m[\u001b[0m\u001b[0;36m1\u001b[0m\u001b[0;34m,\u001b[0m \u001b[0;36m2\u001b[0m\u001b[0;34m,\u001b[0m \u001b[0;36m3\u001b[0m\u001b[0;34m,\u001b[0m \u001b[0;36m4\u001b[0m\u001b[0;34m]\u001b[0m\u001b[0;34m\u001b[0m\u001b[0;34m\u001b[0m\u001b[0m\n\u001b[0;32m----> 2\u001b[0;31m \u001b[0mprint\u001b[0m\u001b[0;34m(\u001b[0m\u001b[0mnext\u001b[0m\u001b[0;34m(\u001b[0m\u001b[0mlist_instance\u001b[0m\u001b[0;34m)\u001b[0m\u001b[0;34m)\u001b[0m\u001b[0;34m\u001b[0m\u001b[0;34m\u001b[0m\u001b[0m\n\u001b[0m",
            "\u001b[0;31mTypeError\u001b[0m: 'list' object is not an iterator"
          ]
        }
      ]
    },
    {
      "cell_type": "markdown",
      "source": [
        "calling the next() function on the list raised a TypeError. This behavior occurred for the simple fact that a list object is an iterable and not an iterator."
      ],
      "metadata": {
        "id": "nyL5wnw-z2T2"
      }
    },
    {
      "cell_type": "markdown",
      "source": [
        "## Exploring Python iterators with examples"
      ],
      "metadata": {
        "id": "SfB92elax_Nn"
      }
    },
    {
      "cell_type": "markdown",
      "source": [
        "**Iterator**\n",
        "\n",
        "An iterator is an object that can be iterated upon. Thus, iterators contain a countable number of values."
      ],
      "metadata": {
        "id": "NVjydjDs0KNP"
      }
    },
    {
      "cell_type": "code",
      "source": [
        "# instantiate a list object\n",
        "list_instance = [1, 2, 3, 4]\n",
        "\n",
        "# convert the list to an iterator\n",
        "iterator = iter(list_instance)\n",
        "\n",
        "# return items one at a time\n",
        "print(next(iterator))\n",
        "print(next(iterator))\n",
        "print(next(iterator))\n",
        "print(next(iterator))\n"
      ],
      "metadata": {
        "colab": {
          "base_uri": "https://localhost:8080/"
        },
        "id": "DjHY502HxjHF",
        "outputId": "ca497445-e307-4204-94ab-2af797aba188"
      },
      "execution_count": 21,
      "outputs": [
        {
          "output_type": "stream",
          "name": "stdout",
          "text": [
            "1\n",
            "2\n",
            "3\n",
            "4\n"
          ]
        }
      ]
    },
    {
      "cell_type": "code",
      "source": [
        "# instantiate a list object\n",
        "list_instance = [1, 2, 3, 4]\n",
        "\n",
        "# loop through the list\n",
        "for iterator in list_instance:\n",
        "  print(iterator)\n"
      ],
      "metadata": {
        "colab": {
          "base_uri": "https://localhost:8080/"
        },
        "id": "AghIEtl_xodd",
        "outputId": "0eed3a4b-6659-4eba-b773-3544c632ced7"
      },
      "execution_count": 22,
      "outputs": [
        {
          "output_type": "stream",
          "name": "stdout",
          "text": [
            "1\n",
            "2\n",
            "3\n",
            "4\n"
          ]
        }
      ]
    },
    {
      "cell_type": "markdown",
      "source": [
        "When the StopIteration exception is caught, then the loop ends"
      ],
      "metadata": {
        "id": "1xumma1l0gsi"
      }
    },
    {
      "cell_type": "markdown",
      "source": [
        "## The lazy nature of iterators"
      ],
      "metadata": {
        "id": "gZORHmd1xpmW"
      }
    },
    {
      "cell_type": "markdown",
      "source": [
        "It is possible to define multiple iterators based on the same iterable object. Each iterator will maintain its own state of progress. Thus, by defining multiple iterator instances of an iterable object, it is possible to iterate to the end of one instance while the other instance remains at the beginning."
      ],
      "metadata": {
        "id": "3nMLhwta1F6I"
      }
    },
    {
      "cell_type": "code",
      "source": [
        "list_instance = [1, 2, 3, 4]\n",
        "iterator_a = iter(list_instance)\n",
        "iterator_b = iter(list_instance)\n",
        "print(f\"A: {next(iterator_a)}\")\n",
        "print(f\"A: {next(iterator_a)}\")\n",
        "print(f\"A: {next(iterator_a)}\")\n",
        "print(f\"A: {next(iterator_a)}\")\n",
        "print(f\"B: {next(iterator_b)}\")\n"
      ],
      "metadata": {
        "colab": {
          "base_uri": "https://localhost:8080/"
        },
        "id": "xAxK3UMuxq7J",
        "outputId": "d0a33ea6-b40a-4075-87e6-4d3f35d761b8"
      },
      "execution_count": 23,
      "outputs": [
        {
          "output_type": "stream",
          "name": "stdout",
          "text": [
            "A: 1\n",
            "A: 2\n",
            "A: 3\n",
            "A: 4\n",
            "B: 1\n"
          ]
        }
      ]
    },
    {
      "cell_type": "markdown",
      "source": [
        "However, all of the values from an iterator may be extracted at once by calling a built-in iterable data structure container (i.e., list(), set(), tuple()) on the iterator object to force the iterator to generate all its elements at once.\n"
      ],
      "metadata": {
        "id": "h5iI9znX1YXb"
      }
    },
    {
      "cell_type": "code",
      "source": [
        "# instantiate iterable\n",
        "list_instance = [1, 2, 3, 4]\n",
        "\n",
        "# produce an iterator from an iterable\n",
        "iterator = iter(list_instance)\n",
        "print(list(iterator))\n"
      ],
      "metadata": {
        "colab": {
          "base_uri": "https://localhost:8080/"
        },
        "id": "eiwsxopQyIvm",
        "outputId": "cdb7efb5-07b5-4a94-ded2-6832c4061958"
      },
      "execution_count": 24,
      "outputs": [
        {
          "output_type": "stream",
          "name": "stdout",
          "text": [
            "[1, 2, 3, 4]\n"
          ]
        }
      ]
    },
    {
      "cell_type": "markdown",
      "source": [
        "It’s not recommended to perform this action, especially when the elements the iterator returns are large since this will take a long time to process."
      ],
      "metadata": {
        "id": "zLlX3VWm1dat"
      }
    },
    {
      "cell_type": "markdown",
      "source": [
        "## Python Generators"
      ],
      "metadata": {
        "id": "L09ka_4vyIgG"
      }
    },
    {
      "cell_type": "markdown",
      "source": [
        "**Generator**\n",
        "\n",
        "A special type of function which does not return a single value: it returns an iterator object with a sequence of values."
      ],
      "metadata": {
        "id": "zLi7oRzm1eUT"
      }
    },
    {
      "cell_type": "markdown",
      "source": [
        "### Analogy:\n",
        "\n",
        "Okay, imagine you're baking cookies.\n",
        "\n",
        "**Regular way (like a traditional function):** You make a huge batch of all the cookies first, then you put them in a big container. If you only want to eat a few, you still had to make all of them and store them. This takes up space and effort upfront.\n",
        "\n",
        "**Generator way (using yield):** Instead of making all the cookies at once, you have a special recipe that tells you how to make one cookie at a time. When you want a cookie, you follow the recipe just for that one. You don't have a big container of cookies sitting around. You only make a new one when you're ready to eat it.\n",
        "\n",
        "Key differences in simple terms:\n",
        "\n",
        "**Making everything at once vs. making one at a time**: Traditional functions often create and store all the results immediately. Generators create results only when you ask for them.\n",
        "\n",
        "**Storing everything vs. remembering how to make the next one:** Traditional functions hold all the results in memory. Generators just remember their \"recipe\" (their code) and where they left off.\n",
        "\n",
        "**Good for big things vs. good for any size:** If you have a huge list of things, a generator is like having a recipe for each thing instead of storing the entire massive list in your brain (memory).\n",
        "\n",
        "So, a generator is like a clever way to produce a sequence of items without having to create and store them all at once. It's efficient because it only does the work when you actually need the next item."
      ],
      "metadata": {
        "id": "dV9KfGBh4li9"
      }
    },
    {
      "cell_type": "markdown",
      "source": [
        "\n",
        "*   **They use the yield keyword:** Instead of return, a generator\n",
        "function uses yield to produce a value. When yield is encountered, the function's state is saved, and the value is returned to the caller. The function can be resumed later from where it left off.\n",
        "*   **They are iterable:** You can loop through the values produced by a generator using a for loop, or use functions like next() to get the next value.\n",
        "*   **They are memory-efficient (lazy evaluation):** Generators don't store the entire sequence in memory. They generate each item only when it's needed. This is especially useful for very large or infinite sequences.\n",
        "*   **They are often more concise:** For many scenarios, a generator function can be a more straightforward way to create an iterable compared to defining a full iterator class."
      ],
      "metadata": {
        "id": "MBIFXNXK6dGO"
      }
    },
    {
      "cell_type": "code",
      "source": [
        "def factors(n):\n",
        "  factor_list = []\n",
        "  for val in range(1, n+1):\n",
        "      if n % val == 0:\n",
        "          factor_list.append(val)\n",
        "  return factor_list\n",
        "\n",
        "print(factors(20))\n"
      ],
      "metadata": {
        "colab": {
          "base_uri": "https://localhost:8080/"
        },
        "id": "cTXZxmUnyPZm",
        "outputId": "96984133-a2f5-4b80-9086-24c209e76335"
      },
      "execution_count": 25,
      "outputs": [
        {
          "output_type": "stream",
          "name": "stdout",
          "text": [
            "[1, 2, 4, 5, 10, 20]\n"
          ]
        }
      ]
    },
    {
      "cell_type": "code",
      "source": [
        "def factors(n):\n",
        "  for val in range(1, n+1):\n",
        "      if n % val == 0:\n",
        "          yield val\n",
        "print(factors(20))\n"
      ],
      "metadata": {
        "colab": {
          "base_uri": "https://localhost:8080/"
        },
        "id": "yPrd6adIyQLK",
        "outputId": "8633be74-8ec6-46e9-d76a-28db96745ae4"
      },
      "execution_count": 26,
      "outputs": [
        {
          "output_type": "stream",
          "name": "stdout",
          "text": [
            "<generator object factors at 0x7ea065fc73e0>\n"
          ]
        }
      ]
    },
    {
      "cell_type": "code",
      "source": [
        "def factors(n):\n",
        "  for val in range(1, n+1):\n",
        "      if n % val == 0:\n",
        "          yield val\n",
        "\n",
        "factors_of_20 = factors(20)\n",
        "print(next(factors_of_20))\n"
      ],
      "metadata": {
        "colab": {
          "base_uri": "https://localhost:8080/"
        },
        "id": "h981ucyAySye",
        "outputId": "813069de-af24-4597-d0a0-57ef42ae1eb0"
      },
      "execution_count": 27,
      "outputs": [
        {
          "output_type": "stream",
          "name": "stdout",
          "text": [
            "1\n"
          ]
        }
      ]
    },
    {
      "cell_type": "code",
      "source": [
        "print((val for val in range(1, 20+1) if n % val == 0))\n"
      ],
      "metadata": {
        "colab": {
          "base_uri": "https://localhost:8080/"
        },
        "id": "SqUam7u7yUks",
        "outputId": "b937993c-ab0c-4e03-9c68-fa8ffc8ac4ae"
      },
      "execution_count": 28,
      "outputs": [
        {
          "output_type": "stream",
          "name": "stdout",
          "text": [
            "<generator object <genexpr> at 0x7ea0646d4450>\n"
          ]
        }
      ]
    },
    {
      "cell_type": "markdown",
      "source": [
        "## Exploring Python’s yield Keyword"
      ],
      "metadata": {
        "id": "MikS0i2wyWn1"
      }
    },
    {
      "cell_type": "code",
      "source": [
        "def yield_multiple_statments():\n",
        "  yield \"This is the first statment\"\n",
        "  yield \"This is the second statement\"\n",
        "  yield \"This is the third statement\"\n",
        "  yield \"This is the last statement. Don't call next again!\"\n",
        "example = yield_multiple_statments()\n",
        "print(next(example))\n",
        "print(next(example))\n",
        "print(next(example))\n",
        "print(next(example))\n",
        "print(next(example))\n"
      ],
      "metadata": {
        "colab": {
          "base_uri": "https://localhost:8080/",
          "height": 245
        },
        "id": "3j_OZ4Q0yYmC",
        "outputId": "776f418c-6a66-4b4f-91b5-cce3e6882699"
      },
      "execution_count": 29,
      "outputs": [
        {
          "output_type": "stream",
          "name": "stdout",
          "text": [
            "This is the first statment\n",
            "This is the second statement\n",
            "This is the third statement\n",
            "This is the last statement. Don't call next again!\n"
          ]
        },
        {
          "output_type": "error",
          "ename": "StopIteration",
          "evalue": "",
          "traceback": [
            "\u001b[0;31m---------------------------------------------------------------------------\u001b[0m",
            "\u001b[0;31mStopIteration\u001b[0m                             Traceback (most recent call last)",
            "\u001b[0;32m<ipython-input-29-ec85688dcb07>\u001b[0m in \u001b[0;36m<cell line: 0>\u001b[0;34m()\u001b[0m\n\u001b[1;32m      9\u001b[0m \u001b[0mprint\u001b[0m\u001b[0;34m(\u001b[0m\u001b[0mnext\u001b[0m\u001b[0;34m(\u001b[0m\u001b[0mexample\u001b[0m\u001b[0;34m)\u001b[0m\u001b[0;34m)\u001b[0m\u001b[0;34m\u001b[0m\u001b[0;34m\u001b[0m\u001b[0m\n\u001b[1;32m     10\u001b[0m \u001b[0mprint\u001b[0m\u001b[0;34m(\u001b[0m\u001b[0mnext\u001b[0m\u001b[0;34m(\u001b[0m\u001b[0mexample\u001b[0m\u001b[0;34m)\u001b[0m\u001b[0;34m)\u001b[0m\u001b[0;34m\u001b[0m\u001b[0;34m\u001b[0m\u001b[0m\n\u001b[0;32m---> 11\u001b[0;31m \u001b[0mprint\u001b[0m\u001b[0;34m(\u001b[0m\u001b[0mnext\u001b[0m\u001b[0;34m(\u001b[0m\u001b[0mexample\u001b[0m\u001b[0;34m)\u001b[0m\u001b[0;34m)\u001b[0m\u001b[0;34m\u001b[0m\u001b[0;34m\u001b[0m\u001b[0m\n\u001b[0m",
            "\u001b[0;31mStopIteration\u001b[0m: "
          ]
        }
      ]
    }
  ]
}